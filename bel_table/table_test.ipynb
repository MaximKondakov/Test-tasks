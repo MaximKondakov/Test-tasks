{
  "cells": [
    {
      "cell_type": "code",
      "execution_count": 2,
      "metadata": {
        "colab": {
          "base_uri": "https://localhost:8080/"
        },
        "id": "1IjXgliTw378",
        "outputId": "774d25bd-6793-4b67-d448-b4c7634be540"
      },
      "outputs": [
        {
          "name": "stdout",
          "output_type": "stream",
          "text": [
            "\u001b[2K   \u001b[90m━━━━━━━━━━━━━━━━━━━━━━━━━━━━━━━━━━━━━━━━\u001b[0m \u001b[32m98.2/98.2 MB\u001b[0m \u001b[31m6.3 MB/s\u001b[0m eta \u001b[36m0:00:00\u001b[0m\n",
            "\u001b[?25h"
          ]
        }
      ],
      "source": [
        "!pip install catboost -q\n",
        "!pip install optuna -q"
      ]
    },
    {
      "cell_type": "code",
      "execution_count": 92,
      "metadata": {
        "id": "avmurRX-ErsR"
      },
      "outputs": [],
      "source": [
        "import pandas as pd\n",
        "import numpy as np\n",
        "\n",
        "import matplotlib.pyplot as plt\n",
        "import seaborn as sns\n",
        "\n",
        "from sklearn.metrics import log_loss, roc_auc_score, classification_report, f1_score, mean_squared_error\n",
        "from sklearn.model_selection import train_test_split\n",
        "\n",
        "from catboost import CatBoostClassifier, Pool, CatBoostRegressor\n",
        "\n",
        "import optuna\n",
        "from optuna.samplers import TPESampler\n",
        "from catboost.utils import eval_metric"
      ]
    },
    {
      "cell_type": "code",
      "execution_count": 74,
      "metadata": {
        "id": "4bGXnHSAEvQe"
      },
      "outputs": [],
      "source": [
        "df_discounts = pd.read_csv('/content/discounts_raw.csv')\n",
        "df_sales = pd.read_csv('/content/sales_raw.csv')"
      ]
    },
    {
      "cell_type": "code",
      "execution_count": 75,
      "metadata": {
        "id": "HdSB9BhpdFYR"
      },
      "outputs": [],
      "source": [
        "# добавление новых строк для прогноза на январь 2024\n",
        "df_january_sales =  pd.DataFrame({'date':pd.date_range(start='2024-01-01', end='2024-01-31')})\n",
        "df_january_sales['date'] = df_january_sales['date'].map(lambda t: t.strftime('%Y-%m-%d'))\n",
        "\n",
        "# список уникальных товаров, которые были проданы в декабре 2023\n",
        "unique_item_2023 = df_sales['item_id'][(df_sales['date']>='2023-12-01') & (df_sales['date'] <='2023-12-31')].unique()\n",
        "df_unique_item = pd.DataFrame({'item_id': unique_item_2023})\n",
        "\n",
        "# создание строк продажи товара для каждого дня января 2024\n",
        "df_january_sales = pd.merge(df_january_sales.assign(key=1), df_unique_item.assign(key=1), on='key').drop('key', axis=1)\n",
        "df_january_sales['qnty'] = 0\n",
        "\n",
        "# конкатенция новых строк для прогноза на январь 2024\n",
        "df_sales = pd.concat([df_sales, df_january_sales], axis=0)"
      ]
    },
    {
      "cell_type": "markdown",
      "metadata": {
        "id": "NhveNhqgMpM6"
      },
      "source": [
        "# Подготовка данных и генерация новых признаков\n"
      ]
    },
    {
      "cell_type": "code",
      "execution_count": 76,
      "metadata": {
        "id": "YbcCjkEwTRRP"
      },
      "outputs": [],
      "source": [
        "# приведение столбца даты к формату datetime\n",
        "df_discounts['date_start'] = pd.to_datetime(df_discounts['date_start'], format='%Y-%m-%d')\n",
        "df_discounts['date_end'] = pd.to_datetime(df_discounts['date_end'], format='%Y-%m-%d')\n",
        "df_sales['date'] = pd.to_datetime(df_sales['date'], format='%Y-%m-%d')"
      ]
    },
    {
      "cell_type": "code",
      "execution_count": 77,
      "metadata": {
        "id": "rh9r4u1CyiaX"
      },
      "outputs": [],
      "source": [
        "# Добавляем новые признаки в датасет\n",
        "\n",
        "# День недели\n",
        "df_sales['day_of_week'] = df_sales['date'].dt.dayofweek\n",
        "\n",
        "# Выходной день\n",
        "df_sales['is_weekend'] = df_sales['day_of_week'].isin([5, 6]).astype(int)\n",
        "\n",
        "# Месяц и год\n",
        "df_sales['month'] = df_sales['date'].dt.month\n",
        "df_sales['year'] = df_sales['date'].dt.year\n",
        "\n",
        "# Время года\n",
        "seasons = {(1, 12, 2): 1, # зима\n",
        "           (3, 4, 5): 2,  # весна\n",
        "           (6, 7, 8): 3,  # лето\n",
        "           (9, 10, 11): 4}# осень\n",
        "\n",
        "def season(ser):\n",
        "    for k in seasons.keys():\n",
        "        if ser in k:\n",
        "            return seasons[k]\n",
        "\n",
        "df_sales['season'] = df_sales['date'].dt.month.apply(lambda x: season(x))"
      ]
    },
    {
      "cell_type": "code",
      "execution_count": 78,
      "metadata": {
        "id": "aV4-QStdpRVM"
      },
      "outputs": [],
      "source": [
        "# Дата прошлого года продажи\n",
        "df_sales['prev_year_date'] = df_sales['date'] - pd.DateOffset(years=1)\n",
        "\n",
        "# Информация о продажах в прошлом году\n",
        "df_sales_prev_year = df_sales[['date', 'item_id', 'qnty']].rename(columns={'date': 'prev_year_date', 'qnty': 'prev_year_qnty'})\n",
        "df_sales = pd.merge(df_sales, df_sales_prev_year, on=['item_id', 'prev_year_date'], how='left')\n",
        "\n",
        "# Если нет информации о продажах в прошлом году, то 0\n",
        "df_sales['prev_year_qnty'].fillna(0, inplace=True)\n",
        "\n",
        "# prev_year_date не нужна\n",
        "df_sales.drop(columns=['prev_year_date'], inplace=True)"
      ]
    },
    {
      "cell_type": "code",
      "execution_count": 79,
      "metadata": {
        "id": "ZzJwXGsSk9gp"
      },
      "outputs": [],
      "source": [
        "# размер скидки и на какой процент она сбрасывает цену товара\n",
        "df_discounts['discount'] = df_discounts['sale_price_before_promo'] - df_discounts['sale_price_time_promo']\n",
        "df_discounts['discount_rate'] = df_discounts['discount'] / df_discounts['sale_price_before_promo']\n",
        "\n",
        "# сколько длилась акция\n",
        "df_discounts['days_promo'] = df_discounts['date_end'] - df_discounts['date_start']\n",
        "df_discounts['days_promo'] = df_discounts['days_promo'].dt.days\n",
        "\n",
        "# новый признак признак по квантилю дней акции\n",
        "df_discounts['days_promo_category'] = pd.qcut(df_discounts['days_promo'], q=2, labels=['short', 'long'])"
      ]
    },
    {
      "cell_type": "code",
      "execution_count": 82,
      "metadata": {
        "colab": {
          "base_uri": "https://localhost:8080/"
        },
        "id": "VmChxUM7dfc8",
        "outputId": "4f5fdc3f-0dee-4ae6-9a52-7ab7a73c376e"
      },
      "outputs": [
        {
          "data": {
            "text/plain": [
              "item_id                     0\n",
              "promo_typeCode             40\n",
              "sale_price_before_promo     0\n",
              "sale_price_time_promo       0\n",
              "date_start                  0\n",
              "date_end                    0\n",
              "discount                    0\n",
              "discount_rate               0\n",
              "days_promo                  0\n",
              "days_promo_category         0\n",
              "dtype: int64"
            ]
          },
          "execution_count": 82,
          "metadata": {},
          "output_type": "execute_result"
        }
      ],
      "source": [
        "df_discounts.isna().sum()"
      ]
    },
    {
      "cell_type": "markdown",
      "metadata": {
        "id": "hKl-fAHuem25"
      },
      "source": [
        "в столбце promo_typeCode есть пропущенные значение, я буду их восстанавливать с помощью catboost"
      ]
    },
    {
      "cell_type": "markdown",
      "metadata": {
        "id": "U7e-GSnhLUbh"
      },
      "source": [
        "## восстановление пропущенных значений"
      ]
    },
    {
      "cell_type": "code",
      "execution_count": 83,
      "metadata": {
        "id": "bKqbuKGitj6M"
      },
      "outputs": [],
      "source": [
        "# формирование датасета\n",
        "df_discounts_new = df_discounts[['promo_typeCode',\n",
        "                                'item_id',\n",
        "                                'sale_price_before_promo',\n",
        "                                'sale_price_time_promo',\n",
        "                                'discount',\n",
        "                                'discount_rate',\n",
        "                                'days_promo',\n",
        "                                'days_promo_category'\n",
        "                               ]]\n",
        "\n",
        "# нет пропусков в promo_typeCode, будет использоваться в тренировке\n",
        "df_discounts_pred = df_discounts_new[df_discounts_new['promo_typeCode' ].isna()]\n",
        "# есть пропуски в promo_typeCode\n",
        "df_discounts_new= df_discounts_new[~df_discounts_new['promo_typeCode' ].isna()]"
      ]
    },
    {
      "cell_type": "code",
      "execution_count": 84,
      "metadata": {
        "id": "Yrm0Q5lCtj6M"
      },
      "outputs": [],
      "source": [
        "# формирование тренировочной и тестовой выборки\n",
        "y = df_discounts_new['promo_typeCode']\n",
        "x = df_discounts_new.drop('promo_typeCode', axis=1)\n",
        "\n",
        "X_train, X_test, y_train, y_test = train_test_split(x, y, test_size=0.2, random_state=42)\n",
        "\n",
        "categorical_features_names = ['item_id', 'days_promo_category']\n",
        "\n",
        "train_dataset = Pool(data=X_train,\n",
        "                     label=y_train,\n",
        "                     cat_features=categorical_features_names)\n",
        "\n",
        "eval_dataset = Pool(data=X_test,\n",
        "                    label=y_test,\n",
        "                    cat_features=categorical_features_names)"
      ]
    },
    {
      "cell_type": "code",
      "execution_count": 93,
      "metadata": {
        "colab": {
          "base_uri": "https://localhost:8080/"
        },
        "id": "K5D14BE5tj6N",
        "outputId": "217a360c-086e-4a60-a85f-0a7008f923c8"
      },
      "outputs": [
        {
          "name": "stdout",
          "output_type": "stream",
          "text": [
            "0:\tlearn: 0.5386029\ttest: 0.5599022\tbest: 0.5599022 (0)\ttotal: 33.2ms\tremaining: 33.2s\n",
            "100:\tlearn: 0.7500000\ttest: 0.7897311\tbest: 0.7921760 (57)\ttotal: 3.64s\tremaining: 32.4s\n",
            "200:\tlearn: 0.7714461\ttest: 0.8068460\tbest: 0.8068460 (191)\ttotal: 6.07s\tremaining: 24.1s\n",
            "300:\tlearn: 0.7922794\ttest: 0.8141809\tbest: 0.8141809 (230)\ttotal: 8.52s\tremaining: 19.8s\n",
            "400:\tlearn: 0.8204657\ttest: 0.8166259\tbest: 0.8264059 (331)\ttotal: 11s\tremaining: 16.5s\n",
            "500:\tlearn: 0.8412990\ttest: 0.8288509\tbest: 0.8288509 (478)\ttotal: 13.5s\tremaining: 13.5s\n",
            "600:\tlearn: 0.8560049\ttest: 0.8435208\tbest: 0.8459658 (580)\ttotal: 17.7s\tremaining: 11.7s\n",
            "700:\tlearn: 0.8743873\ttest: 0.8508557\tbest: 0.8508557 (693)\ttotal: 21.3s\tremaining: 9.07s\n",
            "800:\tlearn: 0.8878676\ttest: 0.8655257\tbest: 0.8655257 (750)\ttotal: 27s\tremaining: 6.7s\n",
            "900:\tlearn: 0.8952206\ttest: 0.8630807\tbest: 0.8655257 (750)\ttotal: 31.9s\tremaining: 3.5s\n",
            "999:\tlearn: 0.8988971\ttest: 0.8581907\tbest: 0.8655257 (750)\ttotal: 34.4s\tremaining: 0us\n",
            "\n",
            "bestTest = 0.8655256724\n",
            "bestIteration = 750\n",
            "\n",
            "Shrink model to first 751 iterations.\n"
          ]
        },
        {
          "data": {
            "text/plain": [
              "<catboost.core.CatBoostClassifier at 0x7c6bb2830e20>"
            ]
          },
          "execution_count": 93,
          "metadata": {},
          "output_type": "execute_result"
        }
      ],
      "source": [
        "model = CatBoostClassifier(iterations=1000, learning_rate=0.03, eval_metric='Accuracy')\n",
        "# Fit model\n",
        "model.fit(train_dataset, eval_set=eval_dataset, verbose=100)\n"
      ]
    },
    {
      "cell_type": "code",
      "execution_count": 94,
      "metadata": {
        "colab": {
          "base_uri": "https://localhost:8080/"
        },
        "id": "KqfQDm2EF-8P",
        "outputId": "585d7312-c020-457b-bdca-1733a2912fd1"
      },
      "outputs": [
        {
          "name": "stdout",
          "output_type": "stream",
          "text": [
            "Classification Report:\n",
            "               precision    recall  f1-score   support\n",
            "\n",
            "         1.0       1.00      1.00      1.00         1\n",
            "         2.0       1.00      1.00      1.00         2\n",
            "         5.0       0.87      0.90      0.88       200\n",
            "         6.0       0.88      0.88      0.88       156\n",
            "         7.0       1.00      1.00      1.00         1\n",
            "         8.0       0.83      0.71      0.77        14\n",
            "        10.0       0.77      0.77      0.77        26\n",
            "        16.0       0.00      0.00      0.00         2\n",
            "        23.0       1.00      1.00      1.00         1\n",
            "        44.0       0.50      0.17      0.25         6\n",
            "\n",
            "    accuracy                           0.87       409\n",
            "   macro avg       0.79      0.74      0.76       409\n",
            "weighted avg       0.86      0.87      0.86       409\n",
            "\n"
          ]
        },
        {
          "name": "stderr",
          "output_type": "stream",
          "text": [
            "/usr/local/lib/python3.10/dist-packages/sklearn/metrics/_classification.py:1471: UndefinedMetricWarning: Precision and F-score are ill-defined and being set to 0.0 in labels with no predicted samples. Use `zero_division` parameter to control this behavior.\n",
            "  _warn_prf(average, modifier, msg_start, len(result))\n",
            "/usr/local/lib/python3.10/dist-packages/sklearn/metrics/_classification.py:1471: UndefinedMetricWarning: Precision and F-score are ill-defined and being set to 0.0 in labels with no predicted samples. Use `zero_division` parameter to control this behavior.\n",
            "  _warn_prf(average, modifier, msg_start, len(result))\n",
            "/usr/local/lib/python3.10/dist-packages/sklearn/metrics/_classification.py:1471: UndefinedMetricWarning: Precision and F-score are ill-defined and being set to 0.0 in labels with no predicted samples. Use `zero_division` parameter to control this behavior.\n",
            "  _warn_prf(average, modifier, msg_start, len(result))\n"
          ]
        }
      ],
      "source": [
        "# метрики качества прогноза для задачи классификации типа промо\n",
        "class_predictions = model.predict(X_test)\n",
        "class_report = classification_report(y_test, class_predictions)\n",
        "print(f'Classification Report:\\n {class_report}')"
      ]
    },
    {
      "cell_type": "code",
      "execution_count": null,
      "metadata": {
        "id": "dV5C4fMTJz15"
      },
      "outputs": [],
      "source": [
        "# точность прогноза 0.87, приемлемо для восстановления пропущенных значений\n",
        "\n",
        "df_discounts_pred = df_discounts_pred.drop('promo_typeCode', axis=1)\n",
        "pred_promo_typeCode =  model.predict(df_discounts_pred)\n",
        "df_discounts_pred['promo_typeCode'] = pred_promo_typeCode\n",
        "\n",
        "df_discounts['promo_typeCode'][df_discounts['promo_typeCode' ].isna()] = df_discounts_pred['promo_typeCode']"
      ]
    },
    {
      "cell_type": "markdown",
      "metadata": {
        "id": "WAje4V94Nf-j"
      },
      "source": [
        "## передача фичей из df_discounts в df_sales по распродажами"
      ]
    },
    {
      "cell_type": "code",
      "execution_count": null,
      "metadata": {
        "id": "zg97GFi0pRVJ"
      },
      "outputs": [],
      "source": [
        "def transfer_columns(row, sale_date):\n",
        "    # фильтрация акции по полученному ид товара\n",
        "    df_mini = df_discounts[df_discounts['item_id'] == row['item_id']]\n",
        "\n",
        "    # проверка даты проводимой акции для товара\n",
        "    for _, mini_row in df_mini.iterrows():\n",
        "        if mini_row['date_start'] <= sale_date <= mini_row['date_end']:\n",
        "            res = {\n",
        "                'promo_typeCode': mini_row['promo_typeCode'],\n",
        "                'sale_price_before_promo': mini_row['sale_price_before_promo'],\n",
        "                'discount': mini_row['discount'],\n",
        "                'discount_rate': mini_row['discount_rate'],\n",
        "                'days_promo_category': mini_row['days_promo_category'],\n",
        "                'promo_active': 1,\n",
        "                }\n",
        "            return res\n",
        "        elif mini_row['date_start'] > sale_date:\n",
        "            res = []\n",
        "        elif mini_row['date_end'] < sale_date:\n",
        "            res = []\n",
        "\n",
        "    res = {\n",
        "        'promo_typeCode': np.nan,\n",
        "        'sale_price_before_promo': np.nan,\n",
        "        'discount': np.nan,\n",
        "        'discount_rate': np.nan,\n",
        "        'days_promo_category': np.nan,\n",
        "        'promo_active': np.nan,\n",
        "        }\n",
        "    return res\n",
        "\n",
        "# получение новых признаков из датасета акций\n",
        "df_sales['dict'] = df_sales.apply(lambda row: transfer_columns(row, row['date']), axis=1)\n"
      ]
    },
    {
      "cell_type": "code",
      "execution_count": null,
      "metadata": {
        "id": "mth3PorczDKz"
      },
      "outputs": [],
      "source": [
        "# раскрытие словаря из столбца dict\n",
        "df_normalized = pd.json_normalize(df_sales['dict'])\n",
        "df_sales = pd.concat([df_sales.drop(columns=['dict']), df_normalized], axis=1)\n",
        "\n",
        "# заполнение строк, в которых не было информации о проводимой акции\n",
        "df_sales['days_promo_category'].fillna(value='no', inplace =True)\n",
        "df_sales['days_promo_category'] = df_sales['days_promo_category'].apply(lambda x: 'no' if x == 0 else x)\n",
        "df_sales['promo_typeCode'].fillna(value=0, inplace =True)\n",
        "df_sales['promo_typeCode'] = df_sales['promo_typeCode'].astype(int)\n",
        "df_sales['discount'].fillna(value=0, inplace =True)\n",
        "df_sales['discount_rate'].fillna(value=0, inplace =True)\n",
        "df_sales['promo_active'].fillna(value=0, inplace =True)\n",
        "df_sales = df_sales.drop('sale_price_before_promo', axis=1, inplace=True)\n",
        "\n",
        "\n",
        "# создание признака - категория продаж по квантилю проданных товаров\n",
        "df_second = pd.DataFrame()\n",
        "df_second['sold_qnty'] = df_sales.groupby('item_id')['qnty'].sum()\n",
        "df_second['item_id_category'] = pd.qcut(df_second['sold_qnty'], q=3, labels=['rare',\n",
        "                                                                              'regular',\n",
        "                                                                              'popular'])\n",
        "df_second['item_id'] = df_second.index\n",
        "df_second.reset_index(drop=True, inplace=True)\n",
        "df_second.drop(columns=['sold_qnty'], inplace=True)\n",
        "# добавление признака в датасет\n",
        "df_sales = pd.merge(df_sales, df_second, on=['item_id'], how='inner')"
      ]
    },
    {
      "cell_type": "markdown",
      "metadata": {
        "id": "VX3LFi-LMu1e"
      },
      "source": [
        "# Обучение модели"
      ]
    },
    {
      "cell_type": "code",
      "execution_count": 56,
      "metadata": {
        "id": "Lvg8DCc3Rv3u"
      },
      "outputs": [],
      "source": [
        "# т.к. задача time series, то нужно отсортировать данных по дате\n",
        "df_sales = df_sales.sort_values(by='date')"
      ]
    },
    {
      "cell_type": "code",
      "execution_count": 63,
      "metadata": {
        "id": "2lxT1Q83NF3I"
      },
      "outputs": [],
      "source": [
        "# датасет для предсказания января 2024\n",
        "x_pred = df_sales[(df_sales['date']>='2024-01-01')]\n",
        "x_pred = x_pred.drop(['qnty'], axis=1)\n",
        "\n",
        "df_res = x_pred[['date', 'item_id']]\n",
        "df_res = df_res.reset_index(drop=True)\n",
        "\n",
        "# датасет до января 2024\n",
        "x = df_sales[(df_sales['date'] < '2024-01-01')]\n",
        "x = x.drop(['date'], axis=1)\n",
        "y = x['qnty']\n",
        "x = x.drop(['qnty'], axis=1)\n",
        "\n",
        "# формирование тренировочной и тестовой выборки\n",
        "X_train, X_test = train_test_split(x, test_size=0.2, shuffle=False)\n",
        "y_train, y_test = train_test_split(y, test_size=0.2, shuffle=False)\n",
        "\n",
        "categorical_features_names = ['item_id', 'day_of_week', 'month', 'year','season',\n",
        "                              'promo_typeCode','days_promo_category', 'item_id_category']\n",
        "train_pool = Pool(X_train,\n",
        "                  label=y_train,\n",
        "                  cat_features=categorical_features_names)\n",
        "test_pool = Pool(X_test,\n",
        "                 label=y_test,\n",
        "                 cat_features=categorical_features_names)"
      ]
    },
    {
      "cell_type": "markdown",
      "metadata": {
        "id": "0-dz62suqA1x"
      },
      "source": [
        "## Поиск гиперпараметров и обучение модели\n"
      ]
    },
    {
      "cell_type": "code",
      "execution_count": 72,
      "metadata": {
        "colab": {
          "base_uri": "https://localhost:8080/"
        },
        "id": "1WTujPMRrXbF",
        "outputId": "b6c7e5ef-30d9-402d-be1c-909e7aae8eb1"
      },
      "outputs": [
        {
          "name": "stderr",
          "output_type": "stream",
          "text": [
            "[I 2024-07-28 16:46:42,755] A new study created in memory with name: no-name-fe7700ce-1359-470e-bbec-823ad2aef833\n"
          ]
        },
        {
          "name": "stdout",
          "output_type": "stream",
          "text": [
            "0:\tlearn: 26.6159447\ttest: 31.1122114\tbest: 31.1122114 (0)\ttotal: 503ms\tremaining: 4m 11s\n",
            "100:\tlearn: 18.3022787\ttest: 20.7571703\tbest: 20.7571703 (100)\ttotal: 16.4s\tremaining: 1m 4s\n",
            "200:\tlearn: 14.2929099\ttest: 16.0592574\tbest: 16.0592574 (200)\ttotal: 32.8s\tremaining: 48.8s\n",
            "300:\tlearn: 12.4053727\ttest: 14.0495603\tbest: 14.0495603 (300)\ttotal: 48.2s\tremaining: 31.9s\n",
            "400:\tlearn: 11.5526869\ttest: 14.0986866\tbest: 13.9119752 (347)\ttotal: 1m 9s\tremaining: 17.1s\n",
            "499:\tlearn: 11.1120677\ttest: 14.4075721\tbest: 13.9119752 (347)\ttotal: 1m 25s\tremaining: 0us\n",
            "\n",
            "bestTest = 13.91197516\n",
            "bestIteration = 347\n",
            "\n",
            "Shrink model to first 348 iterations.\n"
          ]
        },
        {
          "name": "stderr",
          "output_type": "stream",
          "text": [
            "[I 2024-07-28 16:48:09,038] Trial 0 finished with value: 13.911975160359557 and parameters: {'learning_rate': 0.005688533942083845, 'depth': 8, 'subsample': 0.3292049248647309, 'colsample_bylevel': 0.6045299567925547, 'min_data_in_leaf': 81}. Best is trial 0 with value: 13.911975160359557.\n"
          ]
        },
        {
          "name": "stdout",
          "output_type": "stream",
          "text": [
            "0:\tlearn: 26.6542093\ttest: 31.1392743\tbest: 31.1392743 (0)\ttotal: 25.8ms\tremaining: 12.9s\n",
            "100:\tlearn: 23.0051777\ttest: 25.9617145\tbest: 25.9617145 (100)\ttotal: 1.83s\tremaining: 7.22s\n",
            "200:\tlearn: 20.2107013\ttest: 22.0150910\tbest: 22.0150910 (200)\ttotal: 3.6s\tremaining: 5.36s\n",
            "300:\tlearn: 18.9820793\ttest: 20.4103830\tbest: 20.4103830 (300)\ttotal: 5.36s\tremaining: 3.54s\n",
            "400:\tlearn: 18.1452236\ttest: 19.4985692\tbest: 19.4985692 (400)\ttotal: 7.35s\tremaining: 1.81s\n"
          ]
        },
        {
          "name": "stderr",
          "output_type": "stream",
          "text": [
            "[I 2024-07-28 16:48:20,109] Trial 1 finished with value: 18.99186781432597 and parameters: {'learning_rate': 0.008667956337512064, 'depth': 2, 'subsample': 0.6671508173435705, 'colsample_bylevel': 0.18372747045896864, 'min_data_in_leaf': 3}. Best is trial 0 with value: 13.911975160359557.\n"
          ]
        },
        {
          "name": "stdout",
          "output_type": "stream",
          "text": [
            "499:\tlearn: 17.6233084\ttest: 18.9926130\tbest: 18.9918678 (498)\ttotal: 10.7s\tremaining: 0us\n",
            "\n",
            "bestTest = 18.99186781\n",
            "bestIteration = 498\n",
            "\n",
            "Shrink model to first 499 iterations.\n",
            "0:\tlearn: 26.6902071\ttest: 31.2120967\tbest: 31.2120967 (0)\ttotal: 82.7ms\tremaining: 41.2s\n",
            "100:\tlearn: 23.0497593\ttest: 26.3680137\tbest: 26.3680137 (100)\ttotal: 7.05s\tremaining: 27.9s\n",
            "200:\tlearn: 20.1461270\ttest: 22.6446311\tbest: 22.6446311 (200)\ttotal: 15.7s\tremaining: 23.3s\n",
            "300:\tlearn: 17.9491104\ttest: 19.9369502\tbest: 19.9369502 (300)\ttotal: 22.4s\tremaining: 14.8s\n",
            "400:\tlearn: 16.3730470\ttest: 18.0087421\tbest: 18.0087421 (400)\ttotal: 31.3s\tremaining: 7.72s\n",
            "499:\tlearn: 15.2693649\ttest: 16.6781196\tbest: 16.6781196 (499)\ttotal: 39.7s\tremaining: 0us\n",
            "\n",
            "bestTest = 16.67811961\n",
            "bestIteration = 499\n",
            "\n"
          ]
        },
        {
          "name": "stderr",
          "output_type": "stream",
          "text": [
            "[I 2024-07-28 16:49:00,357] Trial 2 finished with value: 16.678119609361243 and parameters: {'learning_rate': 0.0024120533874838384, 'depth': 4, 'subsample': 0.9021005105850901, 'colsample_bylevel': 0.5251447402648634, 'min_data_in_leaf': 65}. Best is trial 0 with value: 13.911975160359557.\n"
          ]
        },
        {
          "name": "stdout",
          "output_type": "stream",
          "text": [
            "0:\tlearn: 26.6147046\ttest: 31.0789503\tbest: 31.0789503 (0)\ttotal: 52.3ms\tremaining: 26.1s\n",
            "100:\tlearn: 18.9079444\ttest: 19.9625329\tbest: 19.9625329 (100)\ttotal: 3.06s\tremaining: 12.1s\n",
            "200:\tlearn: 16.4260111\ttest: 17.0094782\tbest: 17.0094782 (200)\ttotal: 5.71s\tremaining: 8.5s\n",
            "300:\tlearn: 15.6206655\ttest: 16.2542466\tbest: 16.2529803 (293)\ttotal: 8.11s\tremaining: 5.36s\n",
            "400:\tlearn: 15.1542616\ttest: 15.9717392\tbest: 15.9673556 (395)\ttotal: 11.8s\tremaining: 2.91s\n"
          ]
        },
        {
          "name": "stderr",
          "output_type": "stream",
          "text": [
            "[I 2024-07-28 16:49:15,889] Trial 3 finished with value: 15.474494410367875 and parameters: {'learning_rate': 0.012623849543239802, 'depth': 2, 'subsample': 0.7381033560109088, 'colsample_bylevel': 0.5729900718278039, 'min_data_in_leaf': 28}. Best is trial 0 with value: 13.911975160359557.\n"
          ]
        },
        {
          "name": "stdout",
          "output_type": "stream",
          "text": [
            "499:\tlearn: 14.6569265\ttest: 15.4760183\tbest: 15.4744944 (497)\ttotal: 15.1s\tremaining: 0us\n",
            "\n",
            "bestTest = 15.47449441\n",
            "bestIteration = 497\n",
            "\n",
            "Shrink model to first 498 iterations.\n",
            "0:\tlearn: 26.7144451\ttest: 31.2401930\tbest: 31.2401930 (0)\ttotal: 13.9ms\tremaining: 6.96s\n",
            "100:\tlearn: 25.2640784\ttest: 29.2710647\tbest: 29.2710647 (99)\ttotal: 2.88s\tremaining: 11.4s\n",
            "200:\tlearn: 23.7600018\ttest: 27.3656157\tbest: 27.3656157 (200)\ttotal: 5.76s\tremaining: 8.58s\n",
            "300:\tlearn: 22.3681540\ttest: 25.5610690\tbest: 25.5610688 (299)\ttotal: 9.02s\tremaining: 5.96s\n",
            "400:\tlearn: 21.2838758\ttest: 24.1613952\tbest: 24.1613952 (400)\ttotal: 13.3s\tremaining: 3.29s\n",
            "499:\tlearn: 20.4053112\ttest: 23.0355338\tbest: 23.0355272 (498)\ttotal: 16.2s\tremaining: 0us\n",
            "\n",
            "bestTest = 23.03552723\n",
            "bestIteration = 498\n",
            "\n",
            "Shrink model to first 499 iterations.\n"
          ]
        },
        {
          "name": "stderr",
          "output_type": "stream",
          "text": [
            "[I 2024-07-28 16:49:32,716] Trial 4 finished with value: 23.035527232973948 and parameters: {'learning_rate': 0.0017313491411716623, 'depth': 5, 'subsample': 0.16171548796592217, 'colsample_bylevel': 0.11663564608656482, 'min_data_in_leaf': 79}. Best is trial 0 with value: 13.911975160359557.\n"
          ]
        },
        {
          "name": "stdout",
          "output_type": "stream",
          "text": [
            "0:\tlearn: 26.5627295\ttest: 31.0442544\tbest: 31.0442544 (0)\ttotal: 258ms\tremaining: 2m 8s\n",
            "100:\tlearn: 15.7104625\ttest: 18.2243373\tbest: 18.2243373 (100)\ttotal: 26.9s\tremaining: 1m 46s\n",
            "200:\tlearn: 12.1190441\ttest: 14.6470753\tbest: 14.5964032 (197)\ttotal: 54.2s\tremaining: 1m 20s\n",
            "300:\tlearn: 10.9651535\ttest: 14.5700289\tbest: 14.2606317 (256)\ttotal: 1m 21s\tremaining: 53.9s\n",
            "400:\tlearn: 10.5354614\ttest: 15.2327873\tbest: 14.2606317 (256)\ttotal: 1m 49s\tremaining: 27.1s\n",
            "499:\tlearn: 10.3113761\ttest: 15.6583698\tbest: 14.2606317 (256)\ttotal: 2m 17s\tremaining: 0us\n",
            "\n",
            "bestTest = 14.26063171\n",
            "bestIteration = 256\n",
            "\n",
            "Shrink model to first 257 iterations.\n"
          ]
        },
        {
          "name": "stderr",
          "output_type": "stream",
          "text": [
            "[I 2024-07-28 16:51:50,439] Trial 5 finished with value: 14.260631707060522 and parameters: {'learning_rate': 0.008295921948145215, 'depth': 10, 'subsample': 0.8846885299646576, 'colsample_bylevel': 0.4016387191935055, 'min_data_in_leaf': 53}. Best is trial 0 with value: 13.911975160359557.\n"
          ]
        },
        {
          "name": "stdout",
          "output_type": "stream",
          "text": [
            "0:\tlearn: 25.8817943\ttest: 30.1700135\tbest: 30.1700135 (0)\ttotal: 126ms\tremaining: 1m 2s\n",
            "100:\tlearn: 11.1941152\ttest: 14.7059495\tbest: 13.3705722 (76)\ttotal: 10.9s\tremaining: 42.9s\n",
            "200:\tlearn: 10.7638635\ttest: 17.1933799\tbest: 13.3705722 (76)\ttotal: 21.6s\tremaining: 32.1s\n",
            "300:\tlearn: 10.5051409\ttest: 17.0575627\tbest: 13.3705722 (76)\ttotal: 31.2s\tremaining: 20.6s\n",
            "400:\tlearn: 10.3001294\ttest: 16.4966926\tbest: 13.3705722 (76)\ttotal: 43.2s\tremaining: 10.7s\n"
          ]
        },
        {
          "name": "stderr",
          "output_type": "stream",
          "text": [
            "[I 2024-07-28 16:52:46,660] Trial 6 finished with value: 13.370572210158109 and parameters: {'learning_rate': 0.04277137834362025, 'depth': 6, 'subsample': 0.054046609252248204, 'colsample_bylevel': 0.8836949414527551, 'min_data_in_leaf': 83}. Best is trial 6 with value: 13.370572210158109.\n"
          ]
        },
        {
          "name": "stdout",
          "output_type": "stream",
          "text": [
            "499:\tlearn: 10.1995622\ttest: 16.7096846\tbest: 13.3705722 (76)\ttotal: 55.8s\tremaining: 0us\n",
            "\n",
            "bestTest = 13.37057221\n",
            "bestIteration = 76\n",
            "\n",
            "Shrink model to first 77 iterations.\n",
            "0:\tlearn: 26.5014781\ttest: 30.8849026\tbest: 30.8849026 (0)\ttotal: 63.2ms\tremaining: 31.5s\n",
            "100:\tlearn: 12.1037252\ttest: 13.5365832\tbest: 13.5365832 (100)\ttotal: 10.6s\tremaining: 42s\n",
            "200:\tlearn: 10.8576122\ttest: 14.2573703\tbest: 12.9874150 (141)\ttotal: 21.2s\tremaining: 31.5s\n",
            "300:\tlearn: 10.5437562\ttest: 15.7153228\tbest: 12.9874150 (141)\ttotal: 29.9s\tremaining: 19.7s\n",
            "400:\tlearn: 10.3469307\ttest: 16.8274036\tbest: 12.9874150 (141)\ttotal: 40s\tremaining: 9.87s\n",
            "499:\tlearn: 10.1884522\ttest: 17.0373767\tbest: 12.9874150 (141)\ttotal: 49.7s\tremaining: 0us\n",
            "\n",
            "bestTest = 12.98741499\n",
            "bestIteration = 141\n",
            "\n",
            "Shrink model to first 142 iterations.\n"
          ]
        },
        {
          "name": "stderr",
          "output_type": "stream",
          "text": [
            "[I 2024-07-28 16:53:36,906] Trial 7 finished with value: 12.987414985293807 and parameters: {'learning_rate': 0.020008570143683187, 'depth': 8, 'subsample': 0.23763284260215956, 'colsample_bylevel': 0.22673996734639706, 'min_data_in_leaf': 30}. Best is trial 7 with value: 12.987414985293807.\n"
          ]
        },
        {
          "name": "stdout",
          "output_type": "stream",
          "text": [
            "0:\tlearn: 25.8863630\ttest: 30.1431740\tbest: 30.1431740 (0)\ttotal: 264ms\tremaining: 2m 11s\n",
            "100:\tlearn: 10.5938849\ttest: 15.7421899\tbest: 13.9908204 (61)\ttotal: 28.7s\tremaining: 1m 53s\n",
            "200:\tlearn: 10.0926471\ttest: 17.2048095\tbest: 13.9908204 (61)\ttotal: 56.9s\tremaining: 1m 24s\n",
            "300:\tlearn: 9.7744341\ttest: 17.7320718\tbest: 13.9908204 (61)\ttotal: 1m 24s\tremaining: 55.7s\n",
            "400:\tlearn: 9.5188698\ttest: 18.0178925\tbest: 13.9908204 (61)\ttotal: 1m 54s\tremaining: 28.2s\n",
            "499:\tlearn: 9.3299635\ttest: 18.1292741\tbest: 13.9908204 (61)\ttotal: 2m 25s\tremaining: 0us\n",
            "\n",
            "bestTest = 13.99082043\n",
            "bestIteration = 61\n",
            "\n",
            "Shrink model to first 62 iterations.\n"
          ]
        },
        {
          "name": "stderr",
          "output_type": "stream",
          "text": [
            "[I 2024-07-28 16:56:03,389] Trial 8 finished with value: 13.99082043457588 and parameters: {'learning_rate': 0.04374903942192081, 'depth': 9, 'subsample': 0.6891609802050966, 'colsample_bylevel': 0.9007432419313949, 'min_data_in_leaf': 30}. Best is trial 7 with value: 12.987414985293807.\n"
          ]
        },
        {
          "name": "stdout",
          "output_type": "stream",
          "text": [
            "0:\tlearn: 26.6815836\ttest: 31.2191783\tbest: 31.2191783 (0)\ttotal: 39.7ms\tremaining: 19.8s\n",
            "100:\tlearn: 21.7650833\ttest: 24.2629330\tbest: 24.2621332 (98)\ttotal: 1.37s\tremaining: 5.42s\n",
            "200:\tlearn: 18.9118173\ttest: 20.3081204\tbest: 20.3075604 (196)\ttotal: 2.78s\tremaining: 4.14s\n",
            "300:\tlearn: 18.1202162\ttest: 19.5796040\tbest: 19.5638131 (258)\ttotal: 4.2s\tremaining: 2.77s\n",
            "400:\tlearn: 17.8365477\ttest: 19.4778747\tbest: 19.4778747 (400)\ttotal: 5.54s\tremaining: 1.37s\n"
          ]
        },
        {
          "name": "stderr",
          "output_type": "stream",
          "text": [
            "[I 2024-07-28 16:56:10,654] Trial 9 finished with value: 18.976558090516995 and parameters: {'learning_rate': 0.039686270628136365, 'depth': 2, 'subsample': 0.48803154857904835, 'colsample_bylevel': 0.09674657766174038, 'min_data_in_leaf': 2}. Best is trial 7 with value: 12.987414985293807.\n"
          ]
        },
        {
          "name": "stdout",
          "output_type": "stream",
          "text": [
            "499:\tlearn: 17.2185072\ttest: 18.9765592\tbest: 18.9765581 (498)\ttotal: 6.82s\tremaining: 0us\n",
            "\n",
            "bestTest = 18.97655809\n",
            "bestIteration = 498\n",
            "\n",
            "Shrink model to first 499 iterations.\n",
            "0:\tlearn: 26.5111682\ttest: 30.8964422\tbest: 30.8964422 (0)\ttotal: 66.2ms\tremaining: 33s\n",
            "100:\tlearn: 12.1729173\ttest: 12.8006120\tbest: 12.8006120 (100)\ttotal: 10.4s\tremaining: 41.1s\n",
            "200:\tlearn: 10.9258443\ttest: 13.7635764\tbest: 12.3748398 (119)\ttotal: 20.9s\tremaining: 31.2s\n",
            "300:\tlearn: 10.5749860\ttest: 15.6274452\tbest: 12.3748398 (119)\ttotal: 29.9s\tremaining: 19.7s\n",
            "400:\tlearn: 10.3985216\ttest: 16.4368848\tbest: 12.3748398 (119)\ttotal: 41.1s\tremaining: 10.2s\n",
            "499:\tlearn: 10.2540855\ttest: 16.5922189\tbest: 12.3748398 (119)\ttotal: 52s\tremaining: 0us\n",
            "\n",
            "bestTest = 12.3748398\n",
            "bestIteration = 119\n",
            "\n",
            "Shrink model to first 120 iterations.\n"
          ]
        },
        {
          "name": "stderr",
          "output_type": "stream",
          "text": [
            "[I 2024-07-28 16:57:03,153] Trial 10 finished with value: 12.374839798032161 and parameters: {'learning_rate': 0.019129947506427516, 'depth': 7, 'subsample': 0.3549984305798042, 'colsample_bylevel': 0.3301740643802134, 'min_data_in_leaf': 27}. Best is trial 10 with value: 12.374839798032161.\n"
          ]
        },
        {
          "name": "stdout",
          "output_type": "stream",
          "text": [
            "0:\tlearn: 26.4929532\ttest: 30.8656318\tbest: 30.8656318 (0)\ttotal: 65.8ms\tremaining: 32.8s\n",
            "100:\tlearn: 12.2367105\ttest: 14.0588314\tbest: 14.0554700 (99)\ttotal: 10.7s\tremaining: 42.3s\n",
            "200:\tlearn: 11.0192356\ttest: 15.8451981\tbest: 13.7996835 (113)\ttotal: 21.4s\tremaining: 31.8s\n",
            "300:\tlearn: 10.6641780\ttest: 17.9454626\tbest: 13.7996835 (113)\ttotal: 31.1s\tremaining: 20.6s\n",
            "400:\tlearn: 10.4536638\ttest: 18.4245543\tbest: 13.7996835 (113)\ttotal: 42.5s\tremaining: 10.5s\n",
            "499:\tlearn: 10.3082108\ttest: 19.0620705\tbest: 13.7996835 (113)\ttotal: 53.9s\tremaining: 0us\n",
            "\n",
            "bestTest = 13.79968354\n",
            "bestIteration = 113\n",
            "\n",
            "Shrink model to first 114 iterations.\n"
          ]
        },
        {
          "name": "stderr",
          "output_type": "stream",
          "text": [
            "[I 2024-07-28 16:57:57,471] Trial 11 finished with value: 13.799683535022249 and parameters: {'learning_rate': 0.020736553101575468, 'depth': 7, 'subsample': 0.39222847117770815, 'colsample_bylevel': 0.3216254843442927, 'min_data_in_leaf': 27}. Best is trial 10 with value: 12.374839798032161.\n"
          ]
        },
        {
          "name": "stdout",
          "output_type": "stream",
          "text": [
            "0:\tlearn: 26.3430734\ttest: 30.7463109\tbest: 30.7463109 (0)\ttotal: 117ms\tremaining: 58.4s\n",
            "100:\tlearn: 11.9709352\ttest: 13.6552781\tbest: 13.6552781 (100)\ttotal: 11.6s\tremaining: 45.8s\n",
            "200:\tlearn: 10.7447891\ttest: 15.1738090\tbest: 13.5867309 (134)\ttotal: 23s\tremaining: 34.2s\n",
            "300:\tlearn: 10.4259139\ttest: 16.8041945\tbest: 13.5867309 (134)\ttotal: 34.5s\tremaining: 22.8s\n",
            "400:\tlearn: 10.2466939\ttest: 17.1895743\tbest: 13.5867309 (134)\ttotal: 45.7s\tremaining: 11.3s\n",
            "499:\tlearn: 10.0771464\ttest: 17.1947007\tbest: 13.5867309 (134)\ttotal: 57.7s\tremaining: 0us\n",
            "\n",
            "bestTest = 13.5867309\n",
            "bestIteration = 134\n",
            "\n",
            "Shrink model to first 135 iterations.\n"
          ]
        },
        {
          "name": "stderr",
          "output_type": "stream",
          "text": [
            "[I 2024-07-28 16:58:55,688] Trial 12 finished with value: 13.586730899634588 and parameters: {'learning_rate': 0.019999152786548118, 'depth': 8, 'subsample': 0.24838723591055356, 'colsample_bylevel': 0.29811210277660694, 'min_data_in_leaf': 40}. Best is trial 10 with value: 12.374839798032161.\n"
          ]
        },
        {
          "name": "stdout",
          "output_type": "stream",
          "text": [
            "0:\tlearn: 24.8479211\ttest: 28.8076796\tbest: 28.8076796 (0)\ttotal: 132ms\tremaining: 1m 5s\n",
            "100:\tlearn: 10.7002943\ttest: 31.7777150\tbest: 15.4679561 (26)\ttotal: 10.5s\tremaining: 41.6s\n",
            "200:\tlearn: 10.2110878\ttest: 42.4237596\tbest: 15.4679561 (26)\ttotal: 21s\tremaining: 31.2s\n",
            "300:\tlearn: 9.9577548\ttest: 41.4438397\tbest: 15.4679561 (26)\ttotal: 32.9s\tremaining: 21.7s\n",
            "400:\tlearn: 9.7726262\ttest: 41.5124141\tbest: 15.4679561 (26)\ttotal: 44.3s\tremaining: 10.9s\n"
          ]
        },
        {
          "name": "stderr",
          "output_type": "stream",
          "text": [
            "[I 2024-07-28 16:59:50,912] Trial 13 finished with value: 15.467956137981032 and parameters: {'learning_rate': 0.09692735584209902, 'depth': 6, 'subsample': 0.4969735889410323, 'colsample_bylevel': 0.39982170392572136, 'min_data_in_leaf': 14}. Best is trial 10 with value: 12.374839798032161.\n"
          ]
        },
        {
          "name": "stdout",
          "output_type": "stream",
          "text": [
            "499:\tlearn: 9.6431960\ttest: 43.2265904\tbest: 15.4679561 (26)\ttotal: 54.9s\tremaining: 0us\n",
            "\n",
            "bestTest = 15.46795614\n",
            "bestIteration = 26\n",
            "\n",
            "Shrink model to first 27 iterations.\n",
            "0:\tlearn: 26.6651865\ttest: 31.1817874\tbest: 31.1817874 (0)\ttotal: 152ms\tremaining: 1m 15s\n",
            "100:\tlearn: 21.3815951\ttest: 24.9454793\tbest: 24.9454793 (100)\ttotal: 13.9s\tremaining: 54.8s\n",
            "200:\tlearn: 17.7440934\ttest: 20.7977636\tbest: 20.7977636 (200)\ttotal: 28.3s\tremaining: 42.1s\n",
            "300:\tlearn: 15.2959928\ttest: 18.3018950\tbest: 18.3018950 (300)\ttotal: 42.6s\tremaining: 28.1s\n",
            "400:\tlearn: 13.5867702\ttest: 16.3374773\tbest: 16.3374773 (400)\ttotal: 58.4s\tremaining: 14.4s\n",
            "499:\tlearn: 12.5241443\ttest: 15.4105468\tbest: 15.4105468 (499)\ttotal: 1m 13s\tremaining: 0us\n",
            "\n",
            "bestTest = 15.41054678\n",
            "bestIteration = 499\n",
            "\n"
          ]
        },
        {
          "name": "stderr",
          "output_type": "stream",
          "text": [
            "[I 2024-07-28 17:01:05,238] Trial 14 finished with value: 15.410546782073174 and parameters: {'learning_rate': 0.003165133482169157, 'depth': 10, 'subsample': 0.22335351072568183, 'colsample_bylevel': 0.2550386982941523, 'min_data_in_leaf': 48}. Best is trial 10 with value: 12.374839798032161.\n"
          ]
        },
        {
          "name": "stdout",
          "output_type": "stream",
          "text": [
            "0:\tlearn: 26.7170910\ttest: 31.2451347\tbest: 31.2451347 (0)\ttotal: 100ms\tremaining: 50.1s\n",
            "100:\tlearn: 24.9985651\ttest: 28.9723450\tbest: 28.9723450 (100)\ttotal: 5.96s\tremaining: 23.6s\n",
            "200:\tlearn: 23.4070628\ttest: 26.9007222\tbest: 26.9007222 (200)\ttotal: 13.5s\tremaining: 20.1s\n",
            "300:\tlearn: 22.0028091\ttest: 25.0865978\tbest: 25.0865978 (300)\ttotal: 19.5s\tremaining: 12.9s\n",
            "400:\tlearn: 20.7368749\ttest: 23.4570101\tbest: 23.4570101 (400)\ttotal: 26.9s\tremaining: 6.63s\n",
            "499:\tlearn: 19.6562502\ttest: 22.0509602\tbest: 22.0509602 (499)\ttotal: 32.9s\tremaining: 0us\n",
            "\n",
            "bestTest = 22.05096023\n",
            "bestIteration = 499\n",
            "\n"
          ]
        },
        {
          "name": "stderr",
          "output_type": "stream",
          "text": [
            "[I 2024-07-28 17:01:38,590] Trial 15 finished with value: 22.050960227984582 and parameters: {'learning_rate': 0.0010111010940372903, 'depth': 4, 'subsample': 0.3806617001496979, 'colsample_bylevel': 0.6551872004657611, 'min_data_in_leaf': 19}. Best is trial 10 with value: 12.374839798032161.\n"
          ]
        },
        {
          "name": "stdout",
          "output_type": "stream",
          "text": [
            "0:\tlearn: 26.3059249\ttest: 30.7079897\tbest: 30.7079897 (0)\ttotal: 117ms\tremaining: 58.4s\n",
            "100:\tlearn: 11.7841360\ttest: 13.9138042\tbest: 13.9138042 (100)\ttotal: 12.6s\tremaining: 49.7s\n",
            "200:\tlearn: 10.7041842\ttest: 17.4631383\tbest: 13.8444473 (106)\ttotal: 24.5s\tremaining: 36.5s\n",
            "300:\tlearn: 10.4552922\ttest: 19.8018534\tbest: 13.8444473 (106)\ttotal: 36.4s\tremaining: 24.1s\n",
            "400:\tlearn: 10.2884236\ttest: 20.1623859\tbest: 13.8444473 (106)\ttotal: 48.1s\tremaining: 11.9s\n",
            "499:\tlearn: 10.1614514\ttest: 20.7261596\tbest: 13.8444473 (106)\ttotal: 59.8s\tremaining: 0us\n",
            "\n",
            "bestTest = 13.84444725\n",
            "bestIteration = 106\n",
            "\n",
            "Shrink model to first 107 iterations.\n"
          ]
        },
        {
          "name": "stderr",
          "output_type": "stream",
          "text": [
            "[I 2024-07-28 17:02:38,899] Trial 16 finished with value: 13.844447251727418 and parameters: {'learning_rate': 0.021456937989541965, 'depth': 8, 'subsample': 0.08321904105525213, 'colsample_bylevel': 0.42242139730948974, 'min_data_in_leaf': 41}. Best is trial 10 with value: 12.374839798032161.\n"
          ]
        },
        {
          "name": "stdout",
          "output_type": "stream",
          "text": [
            "0:\tlearn: 24.8131650\ttest: 28.7648239\tbest: 28.7648239 (0)\ttotal: 161ms\tremaining: 1m 20s\n",
            "100:\tlearn: 10.3491482\ttest: 26.2595485\tbest: 18.0962707 (16)\ttotal: 14s\tremaining: 55.5s\n",
            "200:\tlearn: 9.8711773\ttest: 24.4522486\tbest: 18.0962707 (16)\ttotal: 28.5s\tremaining: 42.4s\n",
            "300:\tlearn: 9.6120069\ttest: 24.9259725\tbest: 18.0962707 (16)\ttotal: 44.4s\tremaining: 29.4s\n",
            "400:\tlearn: 9.3832430\ttest: 24.8646738\tbest: 18.0962707 (16)\ttotal: 1m\tremaining: 14.9s\n",
            "499:\tlearn: 9.2424111\ttest: 24.4206662\tbest: 18.0962707 (16)\ttotal: 1m 17s\tremaining: 0us\n",
            "\n",
            "bestTest = 18.09627072\n",
            "bestIteration = 16\n",
            "\n",
            "Shrink model to first 17 iterations.\n"
          ]
        },
        {
          "name": "stderr",
          "output_type": "stream",
          "text": [
            "[I 2024-07-28 17:03:56,437] Trial 17 finished with value: 18.096270716707906 and parameters: {'learning_rate': 0.09805950965191651, 'depth': 7, 'subsample': 0.3001304009953343, 'colsample_bylevel': 0.7043255163870168, 'min_data_in_leaf': 66}. Best is trial 10 with value: 12.374839798032161.\n"
          ]
        },
        {
          "name": "stdout",
          "output_type": "stream",
          "text": [
            "0:\tlearn: 26.6837834\ttest: 31.1888324\tbest: 31.1888324 (0)\ttotal: 70.1ms\tremaining: 35s\n",
            "100:\tlearn: 19.6318575\ttest: 22.5508508\tbest: 22.5508508 (100)\ttotal: 9.35s\tremaining: 36.9s\n",
            "200:\tlearn: 15.3397944\ttest: 17.6109875\tbest: 17.6109875 (200)\ttotal: 20.4s\tremaining: 30.4s\n",
            "300:\tlearn: 13.1737596\ttest: 15.3072711\tbest: 15.3072711 (300)\ttotal: 30.8s\tremaining: 20.3s\n",
            "400:\tlearn: 12.0270473\ttest: 14.4381404\tbest: 14.4302097 (397)\ttotal: 41.5s\tremaining: 10.2s\n",
            "499:\tlearn: 11.4171633\ttest: 14.3850788\tbest: 14.2539238 (458)\ttotal: 51.6s\tremaining: 0us\n",
            "\n",
            "bestTest = 14.2539238\n",
            "bestIteration = 458\n",
            "\n",
            "Shrink model to first 459 iterations.\n"
          ]
        },
        {
          "name": "stderr",
          "output_type": "stream",
          "text": [
            "[I 2024-07-28 17:04:48,998] Trial 18 finished with value: 14.2539238008651 and parameters: {'learning_rate': 0.00524613500975183, 'depth': 9, 'subsample': 0.1631952406420969, 'colsample_bylevel': 0.20348588293345996, 'min_data_in_leaf': 99}. Best is trial 10 with value: 12.374839798032161.\n"
          ]
        },
        {
          "name": "stdout",
          "output_type": "stream",
          "text": [
            "0:\tlearn: 26.7117251\ttest: 31.2481688\tbest: 31.2481688 (0)\ttotal: 19.5ms\tremaining: 9.74s\n",
            "100:\tlearn: 22.8200102\ttest: 26.0306259\tbest: 26.0306259 (100)\ttotal: 2.4s\tremaining: 9.5s\n",
            "200:\tlearn: 20.2437974\ttest: 22.4897232\tbest: 22.4897232 (200)\ttotal: 4.89s\tremaining: 7.28s\n",
            "300:\tlearn: 18.3202736\ttest: 20.1824599\tbest: 20.1822415 (295)\ttotal: 6.36s\tremaining: 4.2s\n",
            "400:\tlearn: 17.3336852\ttest: 19.1419760\tbest: 19.1418139 (397)\ttotal: 7.98s\tremaining: 1.97s\n",
            "499:\tlearn: 16.5450554\ttest: 18.3540814\tbest: 18.3540814 (499)\ttotal: 9.67s\tremaining: 0us\n",
            "\n",
            "bestTest = 18.35408142\n",
            "bestIteration = 499\n",
            "\n"
          ]
        },
        {
          "name": "stderr",
          "output_type": "stream",
          "text": [
            "[I 2024-07-28 17:04:59,164] Trial 19 finished with value: 18.35408142439261 and parameters: {'learning_rate': 0.0144702591748255, 'depth': 4, 'subsample': 0.4367140375802593, 'colsample_bylevel': 0.05940374535289911, 'min_data_in_leaf': 15}. Best is trial 10 with value: 12.374839798032161.\n"
          ]
        },
        {
          "name": "stdout",
          "output_type": "stream",
          "text": [
            "0:\tlearn: 26.0236995\ttest: 30.3225399\tbest: 30.3225399 (0)\ttotal: 153ms\tremaining: 1m 16s\n",
            "100:\tlearn: 11.0300102\ttest: 17.1114116\tbest: 14.4492730 (68)\ttotal: 14.2s\tremaining: 56s\n",
            "200:\tlearn: 10.4979653\ttest: 18.9347660\tbest: 14.4492730 (68)\ttotal: 28.1s\tremaining: 41.9s\n",
            "300:\tlearn: 10.2153426\ttest: 19.5835169\tbest: 14.4492730 (68)\ttotal: 43.5s\tremaining: 28.7s\n",
            "400:\tlearn: 10.0265699\ttest: 18.8306756\tbest: 14.4492730 (68)\ttotal: 58.3s\tremaining: 14.4s\n",
            "499:\tlearn: 9.8821637\ttest: 19.1893360\tbest: 14.4492730 (68)\ttotal: 1m 15s\tremaining: 0us\n",
            "\n",
            "bestTest = 14.44927298\n",
            "bestIteration = 68\n",
            "\n",
            "Shrink model to first 69 iterations.\n"
          ]
        },
        {
          "name": "stderr",
          "output_type": "stream",
          "text": [
            "[I 2024-07-28 17:06:15,477] Trial 20 finished with value: 14.449272982608772 and parameters: {'learning_rate': 0.036643538957337525, 'depth': 7, 'subsample': 0.5868241272167698, 'colsample_bylevel': 0.47384114312788755, 'min_data_in_leaf': 36}. Best is trial 10 with value: 12.374839798032161.\n"
          ]
        },
        {
          "name": "stdout",
          "output_type": "stream",
          "text": [
            "0:\tlearn: 25.7069127\ttest: 29.9082886\tbest: 29.9082886 (0)\ttotal: 132ms\tremaining: 1m 5s\n",
            "100:\tlearn: 10.9874058\ttest: 20.2606596\tbest: 15.8747701 (37)\ttotal: 10.2s\tremaining: 40.2s\n",
            "200:\tlearn: 10.5232477\ttest: 18.7886881\tbest: 15.8747701 (37)\ttotal: 21s\tremaining: 31.2s\n",
            "300:\tlearn: 10.2878260\ttest: 18.1994309\tbest: 15.8747701 (37)\ttotal: 33.7s\tremaining: 22.3s\n",
            "400:\tlearn: 10.1487780\ttest: 19.0806939\tbest: 15.8747701 (37)\ttotal: 46.7s\tremaining: 11.5s\n"
          ]
        },
        {
          "name": "stderr",
          "output_type": "stream",
          "text": [
            "[I 2024-07-28 17:07:15,397] Trial 21 finished with value: 15.874770083676058 and parameters: {'learning_rate': 0.05456635081622296, 'depth': 6, 'subsample': 0.0714757715107235, 'colsample_bylevel': 0.977234265698967, 'min_data_in_leaf': 97}. Best is trial 10 with value: 12.374839798032161.\n"
          ]
        },
        {
          "name": "stdout",
          "output_type": "stream",
          "text": [
            "499:\tlearn: 10.0248047\ttest: 19.9238038\tbest: 15.8747701 (37)\ttotal: 59.5s\tremaining: 0us\n",
            "\n",
            "bestTest = 15.87477008\n",
            "bestIteration = 37\n",
            "\n",
            "Shrink model to first 38 iterations.\n",
            "0:\tlearn: 26.1668280\ttest: 30.5202613\tbest: 30.5202613 (0)\ttotal: 114ms\tremaining: 57.1s\n",
            "100:\tlearn: 11.6778480\ttest: 14.3949910\tbest: 14.3407867 (87)\ttotal: 10.8s\tremaining: 42.7s\n",
            "200:\tlearn: 10.9692257\ttest: 16.4438107\tbest: 14.3407867 (87)\ttotal: 22.4s\tremaining: 33.3s\n",
            "300:\tlearn: 10.6575386\ttest: 17.6298273\tbest: 14.3407867 (87)\ttotal: 32.4s\tremaining: 21.4s\n",
            "400:\tlearn: 10.4576901\ttest: 18.6491947\tbest: 14.3407867 (87)\ttotal: 42.5s\tremaining: 10.5s\n"
          ]
        },
        {
          "name": "stderr",
          "output_type": "stream",
          "text": [
            "[I 2024-07-28 17:08:10,537] Trial 22 finished with value: 14.340786674461501 and parameters: {'learning_rate': 0.02862272228535631, 'depth': 6, 'subsample': 0.1602407605464728, 'colsample_bylevel': 0.7486380750824053, 'min_data_in_leaf': 58}. Best is trial 10 with value: 12.374839798032161.\n"
          ]
        },
        {
          "name": "stdout",
          "output_type": "stream",
          "text": [
            "499:\tlearn: 10.3098851\ttest: 19.1180635\tbest: 14.3407867 (87)\ttotal: 54.7s\tremaining: 0us\n",
            "\n",
            "bestTest = 14.34078667\n",
            "bestIteration = 87\n",
            "\n",
            "Shrink model to first 88 iterations.\n",
            "0:\tlearn: 25.4879279\ttest: 29.5864969\tbest: 29.5864969 (0)\ttotal: 129ms\tremaining: 1m 4s\n",
            "100:\tlearn: 11.2930032\ttest: 20.6288850\tbest: 15.1572448 (53)\ttotal: 10s\tremaining: 39.5s\n",
            "200:\tlearn: 10.6749890\ttest: 21.2963098\tbest: 15.1572448 (53)\ttotal: 20.4s\tremaining: 30.4s\n",
            "300:\tlearn: 10.3909432\ttest: 23.0587761\tbest: 15.1572448 (53)\ttotal: 30.7s\tremaining: 20.3s\n",
            "400:\tlearn: 10.1936760\ttest: 22.4919665\tbest: 15.1572448 (53)\ttotal: 41.4s\tremaining: 10.2s\n"
          ]
        },
        {
          "name": "stderr",
          "output_type": "stream",
          "text": [
            "[I 2024-07-28 17:09:03,291] Trial 23 finished with value: 15.157244801545435 and parameters: {'learning_rate': 0.0654572577585861, 'depth': 5, 'subsample': 0.27836529413222694, 'colsample_bylevel': 0.8149243164515627, 'min_data_in_leaf': 80}. Best is trial 10 with value: 12.374839798032161.\n"
          ]
        },
        {
          "name": "stdout",
          "output_type": "stream",
          "text": [
            "499:\tlearn: 10.0291626\ttest: 21.8545564\tbest: 15.1572448 (53)\ttotal: 52.4s\tremaining: 0us\n",
            "\n",
            "bestTest = 15.1572448\n",
            "bestIteration = 53\n",
            "\n",
            "Shrink model to first 54 iterations.\n",
            "0:\tlearn: 26.4693443\ttest: 30.8324018\tbest: 30.8324018 (0)\ttotal: 108ms\tremaining: 54s\n",
            "100:\tlearn: 11.1287522\ttest: 14.3886609\tbest: 14.2026009 (93)\ttotal: 16s\tremaining: 1m 3s\n",
            "200:\tlearn: 10.4039627\ttest: 15.5548327\tbest: 14.2026009 (93)\ttotal: 40.1s\tremaining: 59.6s\n",
            "300:\tlearn: 10.1881952\ttest: 16.1516688\tbest: 14.2026009 (93)\ttotal: 59.7s\tremaining: 39.5s\n",
            "400:\tlearn: 9.9821860\ttest: 16.5589033\tbest: 14.2026009 (93)\ttotal: 1m 22s\tremaining: 20.3s\n",
            "499:\tlearn: 9.8551784\ttest: 17.0001128\tbest: 14.2026009 (93)\ttotal: 1m 48s\tremaining: 0us\n",
            "\n",
            "bestTest = 14.20260089\n",
            "bestIteration = 93\n",
            "\n",
            "Shrink model to first 94 iterations.\n"
          ]
        },
        {
          "name": "stderr",
          "output_type": "stream",
          "text": [
            "[I 2024-07-28 17:10:52,352] Trial 24 finished with value: 14.202600894282945 and parameters: {'learning_rate': 0.026983198522249, 'depth': 9, 'subsample': 0.053450555778482144, 'colsample_bylevel': 0.33651713168245523, 'min_data_in_leaf': 21}. Best is trial 10 with value: 12.374839798032161.\n"
          ]
        },
        {
          "name": "stdout",
          "output_type": "stream",
          "text": [
            "0:\tlearn: 25.5504175\ttest: 29.6664470\tbest: 29.6664470 (0)\ttotal: 182ms\tremaining: 1m 30s\n",
            "100:\tlearn: 11.1294594\ttest: 17.6705781\tbest: 16.1515532 (54)\ttotal: 12.4s\tremaining: 49.1s\n",
            "200:\tlearn: 10.4798354\ttest: 20.3154493\tbest: 16.1515532 (54)\ttotal: 24.1s\tremaining: 35.9s\n",
            "300:\tlearn: 10.1481107\ttest: 22.3298559\tbest: 16.1515532 (54)\ttotal: 33.2s\tremaining: 22s\n",
            "400:\tlearn: 9.9276717\ttest: 23.7272659\tbest: 16.1515532 (54)\ttotal: 42.2s\tremaining: 10.4s\n",
            "499:\tlearn: 9.7710794\ttest: 24.1341910\tbest: 16.1515532 (54)\ttotal: 51.2s\tremaining: 0us\n",
            "\n",
            "bestTest = 16.15155317\n",
            "bestIteration = 54\n",
            "\n",
            "Shrink model to first 55 iterations.\n"
          ]
        },
        {
          "name": "stderr",
          "output_type": "stream",
          "text": [
            "[I 2024-07-28 17:11:44,248] Trial 25 finished with value: 16.15155317101538 and parameters: {'learning_rate': 0.06520583118059746, 'depth': 7, 'subsample': 0.18944278896149713, 'colsample_bylevel': 0.17294276849186885, 'min_data_in_leaf': 47}. Best is trial 10 with value: 12.374839798032161.\n"
          ]
        },
        {
          "name": "stdout",
          "output_type": "stream",
          "text": [
            "0:\tlearn: 26.4719186\ttest: 30.9101653\tbest: 30.9101653 (0)\ttotal: 227ms\tremaining: 1m 53s\n",
            "100:\tlearn: 14.3264082\ttest: 15.5992581\tbest: 15.5992581 (100)\ttotal: 13.8s\tremaining: 54.6s\n",
            "200:\tlearn: 12.1947890\ttest: 13.6623352\tbest: 13.6623352 (200)\ttotal: 26.2s\tremaining: 38.9s\n",
            "300:\tlearn: 11.6288209\ttest: 14.2838467\tbest: 13.5150232 (236)\ttotal: 42.4s\tremaining: 28s\n",
            "400:\tlearn: 11.3418032\ttest: 17.3995205\tbest: 13.5150232 (236)\ttotal: 51.3s\tremaining: 12.7s\n",
            "499:\tlearn: 11.1308795\ttest: 19.5869359\tbest: 13.5150232 (236)\ttotal: 1m 1s\tremaining: 0us\n",
            "\n",
            "bestTest = 13.51502319\n",
            "bestIteration = 236\n",
            "\n",
            "Shrink model to first 237 iterations.\n"
          ]
        },
        {
          "name": "stderr",
          "output_type": "stream",
          "text": [
            "[I 2024-07-28 17:12:46,721] Trial 26 finished with value: 13.515023187402257 and parameters: {'learning_rate': 0.013611918462351588, 'depth': 5, 'subsample': 0.33729160915491435, 'colsample_bylevel': 0.8211530936289518, 'min_data_in_leaf': 90}. Best is trial 10 with value: 12.374839798032161.\n"
          ]
        },
        {
          "name": "stdout",
          "output_type": "stream",
          "text": [
            "0:\tlearn: 26.1624953\ttest: 30.4968794\tbest: 30.4968794 (0)\ttotal: 173ms\tremaining: 1m 26s\n",
            "100:\tlearn: 11.1344662\ttest: 17.5384171\tbest: 16.2248990 (59)\ttotal: 24.7s\tremaining: 1m 37s\n",
            "200:\tlearn: 10.5488153\ttest: 20.9342302\tbest: 16.2248990 (59)\ttotal: 50.1s\tremaining: 1m 14s\n",
            "300:\tlearn: 10.2754472\ttest: 22.0401753\tbest: 16.2248990 (59)\ttotal: 1m 12s\tremaining: 48.2s\n",
            "400:\tlearn: 10.0312748\ttest: 21.9797282\tbest: 16.2248990 (59)\ttotal: 1m 29s\tremaining: 22s\n",
            "499:\tlearn: 9.9049833\ttest: 21.9474243\tbest: 16.2248990 (59)\ttotal: 1m 59s\tremaining: 0us\n",
            "\n",
            "bestTest = 16.22489897\n",
            "bestIteration = 59\n",
            "\n",
            "Shrink model to first 60 iterations.\n"
          ]
        },
        {
          "name": "stderr",
          "output_type": "stream",
          "text": [
            "[I 2024-07-28 17:14:46,859] Trial 27 finished with value: 16.22489896718053 and parameters: {'learning_rate': 0.030329834954088218, 'depth': 8, 'subsample': 0.11544948849684249, 'colsample_bylevel': 0.999154312311961, 'min_data_in_leaf': 66}. Best is trial 10 with value: 12.374839798032161.\n"
          ]
        },
        {
          "name": "stdout",
          "output_type": "stream",
          "text": [
            "0:\tlearn: 26.5717296\ttest: 31.0004440\tbest: 31.0004440 (0)\ttotal: 133ms\tremaining: 1m 6s\n",
            "100:\tlearn: 13.3291463\ttest: 14.7923323\tbest: 14.7923323 (100)\ttotal: 11.9s\tremaining: 46.9s\n",
            "200:\tlearn: 11.5724102\ttest: 14.7587651\tbest: 13.8948147 (152)\ttotal: 27.1s\tremaining: 40.3s\n",
            "300:\tlearn: 11.1451490\ttest: 17.1059529\tbest: 13.8948147 (152)\ttotal: 40.8s\tremaining: 27s\n",
            "400:\tlearn: 10.8933064\ttest: 18.1689226\tbest: 13.8948147 (152)\ttotal: 52.2s\tremaining: 12.9s\n",
            "499:\tlearn: 10.7522596\ttest: 18.5559753\tbest: 13.8948147 (152)\ttotal: 1m 1s\tremaining: 0us\n",
            "\n",
            "bestTest = 13.89481469\n",
            "bestIteration = 152\n",
            "\n",
            "Shrink model to first 153 iterations.\n"
          ]
        },
        {
          "name": "stderr",
          "output_type": "stream",
          "text": [
            "[I 2024-07-28 17:15:48,989] Trial 28 finished with value: 13.894814688305301 and parameters: {'learning_rate': 0.017414604325075984, 'depth': 6, 'subsample': 0.5797616032169347, 'colsample_bylevel': 0.2362063387262356, 'min_data_in_leaf': 33}. Best is trial 10 with value: 12.374839798032161.\n"
          ]
        },
        {
          "name": "stdout",
          "output_type": "stream",
          "text": [
            "0:\tlearn: 26.6138453\ttest: 31.1093839\tbest: 31.1093839 (0)\ttotal: 359ms\tremaining: 2m 59s\n",
            "100:\tlearn: 18.1867280\ttest: 20.5912252\tbest: 20.5912252 (100)\ttotal: 23.8s\tremaining: 1m 34s\n",
            "200:\tlearn: 14.1562721\ttest: 15.8420061\tbest: 15.8420061 (200)\ttotal: 51s\tremaining: 1m 15s\n",
            "300:\tlearn: 12.3311051\ttest: 14.0107006\tbest: 14.0107006 (300)\ttotal: 1m 15s\tremaining: 50s\n",
            "400:\tlearn: 11.5073420\ttest: 13.7447543\tbest: 13.7066890 (392)\ttotal: 1m 35s\tremaining: 23.7s\n",
            "499:\tlearn: 11.1031316\ttest: 14.0305695\tbest: 13.7066890 (392)\ttotal: 2m\tremaining: 0us\n",
            "\n",
            "bestTest = 13.70668904\n",
            "bestIteration = 392\n",
            "\n",
            "Shrink model to first 393 iterations.\n"
          ]
        },
        {
          "name": "stderr",
          "output_type": "stream",
          "text": [
            "[I 2024-07-28 17:17:50,588] Trial 29 finished with value: 13.7066890366579 and parameters: {'learning_rate': 0.005793907217407563, 'depth': 8, 'subsample': 0.33347124932725325, 'colsample_bylevel': 0.6055344040015435, 'min_data_in_leaf': 8}. Best is trial 10 with value: 12.374839798032161.\n"
          ]
        }
      ],
      "source": [
        "def objective(trial):\n",
        "    params = {\n",
        "        \"iterations\": 500,\n",
        "        \"learning_rate\": trial.suggest_float(\"learning_rate\", 1e-3, 0.1, log=True),\n",
        "        \"depth\": trial.suggest_int(\"depth\", 1, 10),\n",
        "        \"subsample\": trial.suggest_float(\"subsample\", 0.05, 1.0),\n",
        "        \"colsample_bylevel\": trial.suggest_float(\"colsample_bylevel\", 0.05, 1.0),\n",
        "        \"min_data_in_leaf\": trial.suggest_int(\"min_data_in_leaf\", 1, 100),\n",
        "    }\n",
        "\n",
        "    model = CatBoostRegressor(**params, silent=True)\n",
        "    model.fit(train_pool, eval_set=test_pool, verbose=100, use_best_model=True)\n",
        "    predictions = model.predict(X_test)\n",
        "    rmse = mean_squared_error(y_test, predictions, squared=False) # if squared=True return MSE\n",
        "    return rmse\n",
        "\n",
        "study = optuna.create_study(direction='minimize')\n",
        "study.optimize(objective, n_trials=30)"
      ]
    },
    {
      "cell_type": "code",
      "execution_count": 73,
      "metadata": {
        "colab": {
          "base_uri": "https://localhost:8080/"
        },
        "id": "MgzhxCYIra-z",
        "outputId": "2956cce0-f5d0-47c5-9882-c4b86e64f374"
      },
      "outputs": [
        {
          "name": "stdout",
          "output_type": "stream",
          "text": [
            "Best hyperparameters: {'learning_rate': 0.019129947506427516, 'depth': 7, 'subsample': 0.3549984305798042, 'colsample_bylevel': 0.3301740643802134, 'min_data_in_leaf': 27}\n",
            "Best RMSE: 12.374839798032161\n"
          ]
        }
      ],
      "source": [
        "print('Best hyperparameters:', study.best_params)\n",
        "print('Best RMSE:', study.best_value)"
      ]
    },
    {
      "cell_type": "code",
      "execution_count": 97,
      "metadata": {
        "colab": {
          "base_uri": "https://localhost:8080/"
        },
        "id": "fuF5BkN4FJpC",
        "outputId": "03153591-4c29-4d52-cf2d-ea628330accb"
      },
      "outputs": [
        {
          "name": "stdout",
          "output_type": "stream",
          "text": [
            "0:\tlearn: 26.5111682\ttest: 30.8964422\tbest: 30.8964422 (0)\ttotal: 64.9ms\tremaining: 32.4s\n",
            "100:\tlearn: 12.1729173\ttest: 12.8006120\tbest: 12.8006120 (100)\ttotal: 13.8s\tremaining: 54.6s\n",
            "200:\tlearn: 10.9258443\ttest: 13.7635764\tbest: 12.3748398 (119)\ttotal: 25.1s\tremaining: 37.3s\n",
            "300:\tlearn: 10.5749860\ttest: 15.6274452\tbest: 12.3748398 (119)\ttotal: 35.6s\tremaining: 23.6s\n",
            "400:\tlearn: 10.3985216\ttest: 16.4368848\tbest: 12.3748398 (119)\ttotal: 45.2s\tremaining: 11.2s\n",
            "499:\tlearn: 10.2540855\ttest: 16.5922189\tbest: 12.3748398 (119)\ttotal: 56.2s\tremaining: 0us\n",
            "\n",
            "bestTest = 12.3748398\n",
            "bestIteration = 119\n",
            "\n",
            "Shrink model to first 120 iterations.\n"
          ]
        },
        {
          "data": {
            "text/plain": [
              "<catboost.core.CatBoostRegressor at 0x7c6bb6b722c0>"
            ]
          },
          "execution_count": 97,
          "metadata": {},
          "output_type": "execute_result"
        }
      ],
      "source": [
        "model = CatBoostRegressor(custom_metric = ['RMSE'], **study.best_params, iterations=500,)\n",
        "model.fit(train_pool, eval_set=test_pool, verbose=100, use_best_model=True)"
      ]
    },
    {
      "cell_type": "code",
      "execution_count": 98,
      "metadata": {
        "colab": {
          "base_uri": "https://localhost:8080/",
          "height": 376
        },
        "id": "0e-1dZ7PmnCf",
        "outputId": "f5f12e46-d198-46a6-b0a6-ef545266e355"
      },
      "outputs": [
        {
          "data": {
            "text/plain": [
              "Text(0.5, 1.0, 'Feature Importance')"
            ]
          },
          "execution_count": 98,
          "metadata": {},
          "output_type": "execute_result"
        },
        {
          "data": {
            "image/png": "[encoded data removed]",
            "text/plain": [
              "<Figure size 1200x600 with 1 Axes>"
            ]
          },
          "metadata": {},
          "output_type": "display_data"
        }
      ],
      "source": [
        "# основной вклад фичей\n",
        "feature_importance = model.feature_importances_\n",
        "sorted_idx = np.argsort(feature_importance)\n",
        "fig = plt.figure(figsize=(12, 6))\n",
        "plt.barh(range(len(sorted_idx)), feature_importance[sorted_idx], align='center')\n",
        "plt.yticks(range(len(sorted_idx)), np.array(X_test.columns)[sorted_idx])\n",
        "plt.title('Feature Importance')"
      ]
    },
    {
      "cell_type": "code",
      "execution_count": 100,
      "metadata": {
        "id": "-spNMMX0nFAF"
      },
      "outputs": [],
      "source": [
        "x_pred = x_pred.drop(['date'], axis=1)\n",
        "y_pred = model.predict(x_pred)\n",
        "df_res['prediction'] = y_pred"
      ]
    },
    {
      "cell_type": "code",
      "execution_count": 106,
      "metadata": {
        "id": "Lwx_3fHcnSVz"
      },
      "outputs": [],
      "source": [
        "# сохранение результата\n",
        "df_res.to_csv('predictions.csv',sep=';', encoding='utf-8', index=False)"
      ]
    },
    {
      "cell_type": "code",
      "execution_count": null,
      "metadata": {
        "id": "n9Rr7728orJz"
      },
      "outputs": [],
      "source": []
    }
  ],
  "metadata": {
    "colab": {
      "collapsed_sections": [
        "U7e-GSnhLUbh"
      ],
      "provenance": []
    },
    "kernelspec": {
      "display_name": "Python 3 (ipykernel)",
      "language": "python",
      "name": "python3"
    },
    "language_info": {
      "codemirror_mode": {
        "name": "ipython",
        "version": 3
      },
      "file_extension": ".py",
      "mimetype": "text/x-python",
      "name": "python",
      "nbconvert_exporter": "python",
      "pygments_lexer": "ipython3",
      "version": "3.7.0"
    }
  },
  "nbformat": 4,
  "nbformat_minor": 0
}
